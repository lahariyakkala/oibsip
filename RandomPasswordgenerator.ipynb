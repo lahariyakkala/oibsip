{
  "nbformat": 4,
  "nbformat_minor": 0,
  "metadata": {
    "colab": {
      "provenance": [],
      "authorship_tag": "ABX9TyMrh6KnVvcuvf8hws5Lfbi7"
    },
    "kernelspec": {
      "name": "python3",
      "display_name": "Python 3"
    },
    "language_info": {
      "name": "python"
    }
  },
  "cells": [
    {
      "cell_type": "code",
      "execution_count": null,
      "metadata": {
        "colab": {
          "base_uri": "https://localhost:8080/"
        },
        "id": "Cf9bYwyRHwVP",
        "outputId": "361f44a7-cfeb-4615-95ba-1df3af2f6705"
      },
      "outputs": [
        {
          "output_type": "stream",
          "name": "stdout",
          "text": [
            "Enter password length: 6\n",
            "Choose character set for password from these :\n",
            "\t\t1. Digits\n",
            "\t\t2. Letters\n",
            "\t\t3. Special characters\n",
            "\t\t4. Exit\n",
            "Pick a number 1\n",
            "Pick a number 2\n",
            "Pick a number 3\n",
            "Pick a number 1\n",
            "Pick a number 2\n",
            "Pick a number 3\n",
            "Pick a number 4\n",
            "The random password is n:%JA+\n"
          ]
        }
      ],
      "source": [
        "import string\n",
        "import random\n",
        "\n",
        "# Getting password length\n",
        "length = int(input(\"Enter password length: \"))\n",
        "\n",
        "print('''Choose character set for password from these :\n",
        "\t\t1. Digits\n",
        "\t\t2. Letters\n",
        "\t\t3. Special characters\n",
        "\t\t4. Exit''')\n",
        "\n",
        "characterList = \"\"\n",
        "\n",
        "# Getting character set for password\n",
        "while(True):\n",
        "\tchoice = int(input(\"Pick a number \"))\n",
        "\tif(choice == 1):\n",
        "\n",
        "\t\t# Adding letters to possible characters\n",
        "\t\tcharacterList += string.ascii_letters\n",
        "\telif(choice == 2):\n",
        "\n",
        "\t\t# Adding digits to possible characters\n",
        "\t\tcharacterList += string.digits\n",
        "\telif(choice == 3):\n",
        "\n",
        "\t\t# Adding special characters to possible\n",
        "\t\t# characters\n",
        "\t\tcharacterList += string.punctuation\n",
        "\telif(choice == 4):\n",
        "\t\tbreak\n",
        "\telse:\n",
        "\t\tprint(\"Please pick a valid option!\")\n",
        "\n",
        "password = []\n",
        "\n",
        "for i in range(length):\n",
        "\n",
        "\t# Picking a random character from our\n",
        "\t# character list\n",
        "\trandomchar = random.choice(characterList)\n",
        "\n",
        "\t# appending a random character to password\n",
        "\tpassword.append(randomchar)\n",
        "\n",
        "# printing password as a string\n",
        "print(\"The random password is \" + \"\".join(password))\n"
      ]
    }
  ]
}